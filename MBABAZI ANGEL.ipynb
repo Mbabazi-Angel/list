{
 "cells": [
  {
   "cell_type": "markdown",
   "metadata": {},
   "source": [
    "Find the mean, variance and standard deviation of the heights, weights and ages of students"
   ]
  },
  {
   "cell_type": "code",
   "execution_count": 20,
   "metadata": {},
   "outputs": [],
   "source": [
    "import numpy as np"
   ]
  },
  {
   "cell_type": "code",
   "execution_count": 6,
   "metadata": {},
   "outputs": [],
   "source": [
    "age_list = [20,27,21,23,19,24,21,19,19,22,25,27,21,19,21,21,20,23,20,20,27,23,21,19,20,22,21,23,20,30,]"
   ]
  },
  {
   "cell_type": "code",
   "execution_count": 68,
   "metadata": {},
   "outputs": [
    {
     "name": "stdout",
     "output_type": "stream",
     "text": [
      "29\n"
     ]
    }
   ],
   "source": [
    "length_of_list = len(age_list)\n",
    "print(length_of_list)"
   ]
  },
  {
   "cell_type": "code",
   "execution_count": 11,
   "metadata": {},
   "outputs": [],
   "source": [
    "weight_list = [74,47,54,30,59,65,69,57,55,78,60,80,58,50,50,50,49,70,62,55,55,60,45,70,55,67,67,64,50,65,]"
   ]
  },
  {
   "cell_type": "code",
   "execution_count": 60,
   "metadata": {},
   "outputs": [
    {
     "name": "stdout",
     "output_type": "stream",
     "text": [
      "30\n"
     ]
    }
   ],
   "source": [
    "length_of_list = len(weight_list)\n",
    "print(length_of_list)"
   ]
  },
  {
   "cell_type": "code",
   "execution_count": 25,
   "metadata": {},
   "outputs": [],
   "source": [
    "height_list = [177.8,157.5,210.8,187.96,175.3,175.3,157.5,167.6,154.9,162.6,175.3,172.7,187.96,165.1,175.3,175.3,160.02,162.6,91.44,162.6,94.0,165.1,63.5,91.44,170.18,175.3,137.16,165.1,157.5,104.14]\n"
   ]
  },
  {
   "cell_type": "code",
   "execution_count": 59,
   "metadata": {},
   "outputs": [
    {
     "name": "stdout",
     "output_type": "stream",
     "text": [
      "30\n"
     ]
    }
   ],
   "source": [
    "length_of_list = len(height_list)\n",
    "print(length_of_list)"
   ]
  },
  {
   "cell_type": "code",
   "execution_count": 27,
   "metadata": {},
   "outputs": [],
   "source": [
    "age_array = np.array(age_list)"
   ]
  },
  {
   "cell_type": "code",
   "execution_count": 28,
   "metadata": {},
   "outputs": [],
   "source": [
    "weight_array = np.array(weight_list)"
   ]
  },
  {
   "cell_type": "code",
   "execution_count": 29,
   "metadata": {},
   "outputs": [],
   "source": [
    "height_array = np.array(height_list)"
   ]
  },
  {
   "cell_type": "code",
   "execution_count": 39,
   "metadata": {},
   "outputs": [],
   "source": [
    "age_array = age_list\n",
    "weight_array = weight_list\n",
    "height_array = height_list"
   ]
  },
  {
   "cell_type": "code",
   "execution_count": 41,
   "metadata": {},
   "outputs": [],
   "source": [
    "if len(age_array) == len(weight_array):\n",
    "    for i in range(len(age_array)):\n",
    "        total1 = age_array + weight_array\n",
    "        result.append(total1)  "
   ]
  },
  {
   "cell_type": "code",
   "execution_count": 44,
   "metadata": {},
   "outputs": [
    {
     "name": "stdout",
     "output_type": "stream",
     "text": [
      "[20, 27, 21, 23, 19, 24, 21, 19, 19, 22, 25, 27, 21, 19, 21, 21, 20, 23, 20, 27, 23, 21, 19, 20, 22, 21, 23, 20, 30, 74, 47, 54, 30, 59, 65, 69, 57, 55, 78, 60, 80, 58, 50, 50, 50, 49, 70, 62, 55, 55, 60, 45, 70, 55, 67, 67, 64, 50, 65]\n"
     ]
    }
   ],
   "source": [
    "total1 = age_list + weight_array\n",
    "print(total1)"
   ]
  },
  {
   "cell_type": "code",
   "execution_count": 50,
   "metadata": {},
   "outputs": [],
   "source": [
    "age_array = age_array[:len(weight_array)]"
   ]
  },
  {
   "cell_type": "code",
   "execution_count": 55,
   "metadata": {},
   "outputs": [],
   "source": [
    "result = []\n",
    "if len(age_array) == len(weight_array):\n",
    "    for i in range (len(age_array)):\n",
    "        total1 = age_array[i] + weight_array[i]\n",
    "        result.append(total1)\n",
    "        print(total1)"
   ]
  },
  {
   "cell_type": "code",
   "execution_count": 57,
   "metadata": {},
   "outputs": [
    {
     "name": "stdout",
     "output_type": "stream",
     "text": [
      "[20, 27, 21, 23, 19, 24, 21, 19, 19, 22, 25, 27, 21, 19, 21, 21, 20, 23, 20, 27, 23, 21, 19, 20, 22, 21, 23, 20, 30, 74, 47, 54, 30, 59, 65, 69, 57, 55, 78, 60, 80, 58, 50, 50, 50, 49, 70, 62, 55, 55, 60, 45, 70, 55, 67, 67, 64, 50, 65, 177.8, 157.5, 210.8, 187.96, 175.3, 175.3, 157.5, 167.6, 154.9, 162.6, 175.3, 172.7, 187.96, 165.1, 175.3, 175.3, 160.02, 162.6, 91.44, 162.6, 94.0, 165.1, 63.5, 91.44, 170.18, 175.3, 137.16, 165.1, 157.5, 104.14]\n"
     ]
    }
   ],
   "source": [
    "total2 = total1 + height_array\n",
    "print(total2)"
   ]
  },
  {
   "cell_type": "code",
   "execution_count": 58,
   "metadata": {},
   "outputs": [
    {
     "name": "stdout",
     "output_type": "stream",
     "text": [
      "89\n"
     ]
    }
   ],
   "source": [
    "length_of_list = len(total2)\n",
    "print(length_of_list)"
   ]
  },
  {
   "cell_type": "code",
   "execution_count": 73,
   "metadata": {},
   "outputs": [
    {
     "name": "stdout",
     "output_type": "stream",
     "text": [
      "79.62921348314607\n"
     ]
    }
   ],
   "source": [
    "mean = np.mean(total2)\n",
    "print(mean)"
   ]
  },
  {
   "cell_type": "code",
   "execution_count": 76,
   "metadata": {},
   "outputs": [
    {
     "name": "stdout",
     "output_type": "stream",
     "text": [
      "0.0\n"
     ]
    }
   ],
   "source": [
    "variance = np.var(mean)\n",
    "print(variance)"
   ]
  },
  {
   "cell_type": "code",
   "execution_count": 74,
   "metadata": {},
   "outputs": [
    {
     "name": "stdout",
     "output_type": "stream",
     "text": [
      "0.0\n"
     ]
    }
   ],
   "source": [
    "standard_deviation = np.std(mean)\n",
    "print(standard_deviation)"
   ]
  }
 ],
 "metadata": {
  "kernelspec": {
   "display_name": "Python 3",
   "language": "python",
   "name": "python3"
  },
  "language_info": {
   "codemirror_mode": {
    "name": "ipython",
    "version": 3
   },
   "file_extension": ".py",
   "mimetype": "text/x-python",
   "name": "python",
   "nbconvert_exporter": "python",
   "pygments_lexer": "ipython3",
   "version": "3.11.5"
  },
  "orig_nbformat": 4
 },
 "nbformat": 4,
 "nbformat_minor": 2
}
